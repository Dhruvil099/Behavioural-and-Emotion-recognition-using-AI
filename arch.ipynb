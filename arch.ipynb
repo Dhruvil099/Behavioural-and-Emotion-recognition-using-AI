{
 "cells": [
  {
   "cell_type": "code",
   "execution_count": 1,
   "metadata": {},
   "outputs": [
    {
     "name": "stdout",
     "output_type": "stream",
     "text": [
      "Metal device set to: Apple M1 Max\n",
      "\n",
      "systemMemory: 64.00 GB\n",
      "maxCacheSize: 24.00 GB\n",
      "\n"
     ]
    }
   ],
   "source": [
    "from tensorflow.keras.models import load_model\n",
    "model1 = load_model('model_CNN.h5')\n",
    "model2 = load_model('LSTMcombined_2.h5')\n"
   ]
  },
  {
   "cell_type": "code",
   "execution_count": 2,
   "metadata": {},
   "outputs": [
    {
     "name": "stdout",
     "output_type": "stream",
     "text": [
      "Model: \"sequential_2\"\n",
      "_________________________________________________________________\n",
      " Layer (type)                Output Shape              Param #   \n",
      "=================================================================\n",
      " conv2d_9 (Conv2D)           (None, 46, 46, 32)        320       \n",
      "                                                                 \n",
      " max_pooling2d_9 (MaxPooling  (None, 23, 23, 32)       0         \n",
      " 2D)                                                             \n",
      "                                                                 \n",
      " conv2d_10 (Conv2D)          (None, 21, 21, 64)        18496     \n",
      "                                                                 \n",
      " max_pooling2d_10 (MaxPoolin  (None, 10, 10, 64)       0         \n",
      " g2D)                                                            \n",
      "                                                                 \n",
      " conv2d_11 (Conv2D)          (None, 8, 8, 128)         73856     \n",
      "                                                                 \n",
      " max_pooling2d_11 (MaxPoolin  (None, 4, 4, 128)        0         \n",
      " g2D)                                                            \n",
      "                                                                 \n",
      " flatten_3 (Flatten)         (None, 2048)              0         \n",
      "                                                                 \n",
      " dense_5 (Dense)             (None, 512)               1049088   \n",
      "                                                                 \n",
      " dropout_2 (Dropout)         (None, 512)               0         \n",
      "                                                                 \n",
      " dense_6 (Dense)             (None, 5)                 2565      \n",
      "                                                                 \n",
      "=================================================================\n",
      "Total params: 1,144,325\n",
      "Trainable params: 1,144,325\n",
      "Non-trainable params: 0\n",
      "_________________________________________________________________\n"
     ]
    }
   ],
   "source": [
    "model1.summary()"
   ]
  },
  {
   "cell_type": "code",
   "execution_count": 3,
   "metadata": {},
   "outputs": [
    {
     "name": "stdout",
     "output_type": "stream",
     "text": [
      "Model: \"sequential_1\"\n",
      "_________________________________________________________________\n",
      " Layer (type)                Output Shape              Param #   \n",
      "=================================================================\n",
      " lstm (LSTM)                 (None, 128)               66560     \n",
      "                                                                 \n",
      " dense_2 (Dense)             (None, 64)                8256      \n",
      "                                                                 \n",
      " dropout_4 (Dropout)         (None, 64)                0         \n",
      "                                                                 \n",
      " dense_3 (Dense)             (None, 32)                2080      \n",
      "                                                                 \n",
      " dropout_5 (Dropout)         (None, 32)                0         \n",
      "                                                                 \n",
      " dense_4 (Dense)             (None, 7)                 231       \n",
      "                                                                 \n",
      "=================================================================\n",
      "Total params: 77,127\n",
      "Trainable params: 77,127\n",
      "Non-trainable params: 0\n",
      "_________________________________________________________________\n"
     ]
    }
   ],
   "source": [
    "model2.summary()"
   ]
  },
  {
   "cell_type": "code",
   "execution_count": 1,
   "metadata": {},
   "outputs": [
    {
     "name": "stdout",
     "output_type": "stream",
     "text": [
      "𝐴 𝑠𝑎𝑚𝑝𝑙𝑒 𝑜𝑓 900 𝑖𝑡𝑒𝑚𝑠 𝑖𝑠 𝑓𝑜𝑢𝑛𝑑 𝑡𝑜 h𝑎𝑣𝑒 𝑎 𝑚𝑒𝑎𝑛 𝑜𝑓 3.47 𝑐𝑚. 𝐶𝑎𝑛 𝑖𝑡 𝑏𝑒 𝑟𝑒𝑎𝑠𝑜𝑛𝑎𝑏𝑙𝑦 𝑟𝑒𝑔𝑎𝑟𝑑𝑒𝑑 𝑎𝑠 𝑎 𝑠𝑖𝑚𝑝𝑙𝑒 𝑠𝑎𝑚𝑝𝑙𝑒 𝑓𝑟𝑜𝑚 𝑎 𝑝𝑜𝑝𝑢𝑙𝑎𝑡𝑖𝑜𝑛 𝑤𝑖𝑡h 𝑚𝑒𝑎𝑛 3.23 𝑐𝑚 𝑎𝑛𝑑 𝑆.𝐷. 2.31 𝑐𝑚 ? 𝑇𝑎𝑘𝑒 1 % 𝐿.𝑂.𝑆.\n"
     ]
    }
   ],
   "source": [
    "print('𝐴 𝑠𝑎𝑚𝑝𝑙𝑒 𝑜𝑓 900 𝑖𝑡𝑒𝑚𝑠 𝑖𝑠 𝑓𝑜𝑢𝑛𝑑 𝑡𝑜 h𝑎𝑣𝑒 𝑎 𝑚𝑒𝑎𝑛 𝑜𝑓 3.47 𝑐𝑚. 𝐶𝑎𝑛 𝑖𝑡 𝑏𝑒 𝑟𝑒𝑎𝑠𝑜𝑛𝑎𝑏𝑙𝑦 𝑟𝑒𝑔𝑎𝑟𝑑𝑒𝑑 𝑎𝑠 𝑎 𝑠𝑖𝑚𝑝𝑙𝑒 𝑠𝑎𝑚𝑝𝑙𝑒 𝑓𝑟𝑜𝑚 𝑎 𝑝𝑜𝑝𝑢𝑙𝑎𝑡𝑖𝑜𝑛 𝑤𝑖𝑡h 𝑚𝑒𝑎𝑛 3.23 𝑐𝑚 𝑎𝑛𝑑 𝑆.𝐷. 2.31 𝑐𝑚 ? 𝑇𝑎𝑘𝑒 1 % 𝐿.𝑂.𝑆.')"
   ]
  },
  {
   "cell_type": "code",
   "execution_count": 3,
   "metadata": {},
   "outputs": [
    {
     "data": {
      "text/plain": [
       "False"
      ]
     },
     "execution_count": 3,
     "metadata": {},
     "output_type": "execute_result"
    }
   ],
   "source": [
    "a = '𝑠𝑖𝑚𝑝𝑙𝑒'\n",
    "b = 'simple'\n",
    "a == b"
   ]
  },
  {
   "cell_type": "code",
   "execution_count": 4,
   "metadata": {},
   "outputs": [
    {
     "ename": "UnicodeEncodeError",
     "evalue": "'ascii' codec can't encode characters in position 0-5: ordinal not in range(128)",
     "output_type": "error",
     "traceback": [
      "\u001b[0;31m---------------------------------------------------------------------------\u001b[0m",
      "\u001b[0;31mUnicodeEncodeError\u001b[0m                        Traceback (most recent call last)",
      "Cell \u001b[0;32mIn [4], line 1\u001b[0m\n\u001b[0;32m----> 1\u001b[0m normal_text \u001b[38;5;241m=\u001b[39m \u001b[43ma\u001b[49m\u001b[38;5;241;43m.\u001b[39;49m\u001b[43mencode\u001b[49m\u001b[43m(\u001b[49m\u001b[38;5;124;43m'\u001b[39;49m\u001b[38;5;124;43mascii\u001b[39;49m\u001b[38;5;124;43m'\u001b[39;49m\u001b[43m)\u001b[49m\u001b[38;5;241m.\u001b[39mdecode(\u001b[38;5;124m'\u001b[39m\u001b[38;5;124municode-escape\u001b[39m\u001b[38;5;124m'\u001b[39m)\n\u001b[1;32m      2\u001b[0m normal_text \u001b[38;5;241m==\u001b[39m b\n",
      "\u001b[0;31mUnicodeEncodeError\u001b[0m: 'ascii' codec can't encode characters in position 0-5: ordinal not in range(128)"
     ]
    }
   ],
   "source": [
    "normal_text = a.encode('ascii').decode('unicode-escape')\n",
    "normal_text == b"
   ]
  },
  {
   "cell_type": "code",
   "execution_count": 1,
   "metadata": {},
   "outputs": [
    {
     "name": "stdout",
     "output_type": "stream",
     "text": [
      "The mean breaking strength of the cables supplied by a manufacturer is 1800 with a S. D. of 100. By a new technique in the manufacturing process, it is claimedthatthebreakingstrengthofthecablehasincreased. Totestthis claim, a sample of 50 cables is tested and it is found that the mean breaking strengthis1850.Canwesupporttheclaimat1%L.O.S. ?\n"
     ]
    }
   ],
   "source": [
    "import unicodedata\n",
    "\n",
    "# Your styled text\n",
    "styled_text = '𝑇h𝑒 𝑚𝑒𝑎𝑛 𝑏𝑟𝑒𝑎𝑘𝑖𝑛𝑔 𝑠𝑡𝑟𝑒𝑛𝑔𝑡h 𝑜𝑓 𝑡h𝑒 𝑐𝑎𝑏𝑙𝑒𝑠 𝑠𝑢𝑝𝑝𝑙𝑖𝑒𝑑 𝑏𝑦 𝑎 𝑚𝑎𝑛𝑢𝑓𝑎𝑐𝑡𝑢𝑟𝑒𝑟 𝑖𝑠 1800 𝑤𝑖𝑡h 𝑎 𝑆. 𝐷. 𝑜𝑓 100. 𝐵𝑦 𝑎 𝑛𝑒𝑤 𝑡𝑒𝑐h𝑛𝑖𝑞𝑢𝑒 𝑖𝑛 𝑡h𝑒 𝑚𝑎𝑛𝑢𝑓𝑎𝑐𝑡𝑢𝑟𝑖𝑛𝑔 𝑝𝑟𝑜𝑐𝑒𝑠𝑠, 𝑖𝑡 𝑖𝑠 𝑐𝑙𝑎𝑖𝑚𝑒𝑑𝑡h𝑎𝑡𝑡h𝑒𝑏𝑟𝑒𝑎𝑘𝑖𝑛𝑔𝑠𝑡𝑟𝑒𝑛𝑔𝑡h𝑜𝑓𝑡h𝑒𝑐𝑎𝑏𝑙𝑒h𝑎𝑠𝑖𝑛𝑐𝑟𝑒𝑎𝑠𝑒𝑑. 𝑇𝑜𝑡𝑒𝑠𝑡𝑡h𝑖𝑠 𝑐𝑙𝑎𝑖𝑚, 𝑎 𝑠𝑎𝑚𝑝𝑙𝑒 𝑜𝑓 50 𝑐𝑎𝑏𝑙𝑒𝑠 𝑖𝑠 𝑡𝑒𝑠𝑡𝑒𝑑 𝑎𝑛𝑑 𝑖𝑡 𝑖𝑠 𝑓𝑜𝑢𝑛𝑑 𝑡h𝑎𝑡 𝑡h𝑒 𝑚𝑒𝑎𝑛 𝑏𝑟𝑒𝑎𝑘𝑖𝑛𝑔 𝑠𝑡𝑟𝑒𝑛𝑔𝑡h𝑖𝑠1850.𝐶𝑎𝑛𝑤𝑒𝑠𝑢𝑝𝑝𝑜𝑟𝑡𝑡h𝑒𝑐𝑙𝑎𝑖𝑚𝑎𝑡1%𝐿.𝑂.𝑆. ?'\n",
    "\n",
    "# Normalize the text to remove the styling\n",
    "normalized_text = unicodedata.normalize('NFKC', styled_text)\n",
    "\n",
    "print(normalized_text)  # Output: sample\n"
   ]
  },
  {
   "cell_type": "code",
   "execution_count": 1,
   "metadata": {},
   "outputs": [
    {
     "name": "stdout",
     "output_type": "stream",
     "text": [
      "hello\n"
     ]
    }
   ],
   "source": [
    "print(\"hello\")"
   ]
  },
  {
   "cell_type": "code",
   "execution_count": 2,
   "metadata": {},
   "outputs": [
    {
     "name": "stdout",
     "output_type": "stream",
     "text": [
      "hello world\n"
     ]
    }
   ],
   "source": [
    "print(\"hello world\")"
   ]
  },
  {
   "cell_type": "code",
   "execution_count": 1,
   "metadata": {},
   "outputs": [],
   "source": [
    "%%capture\n",
    "# Installing SpeechBrain via pip\n",
    "BRANCH = 'develop'\n",
    "!python -m pip install git+https://github.com/speechbrain/speechbrain.git@$BRANCH\n",
    "\n",
    "# Clone SpeechBrain repository\n",
    "!git clone https://github.com/speechbrain/speechbrain/\n",
    "%cd /content/speechbrain/templates/speech_recognition/"
   ]
  },
  {
   "cell_type": "code",
   "execution_count": 5,
   "metadata": {},
   "outputs": [
    {
     "name": "stderr",
     "output_type": "stream",
     "text": [
      "/Users/dhruvilshah/tensorflow-test/env/lib/python3.8/site-packages/transformers/configuration_utils.py:379: UserWarning: Passing `gradient_checkpointing` to a config initialization is deprecated and will be removed in v5 Transformers. Using `model.gradient_checkpointing_enable()` instead, or if you are using the `Trainer` API, pass `gradient_checkpointing=True` in your `TrainingArguments`.\n",
      "  warnings.warn(\n",
      "Some weights of the model checkpoint at facebook/wav2vec2-base were not used when initializing Wav2Vec2Model: ['project_q.weight', 'quantizer.weight_proj.weight', 'quantizer.codevectors', 'project_q.bias', 'project_hid.bias', 'project_hid.weight', 'quantizer.weight_proj.bias']\n",
      "- This IS expected if you are initializing Wav2Vec2Model from the checkpoint of a model trained on another task or with another architecture (e.g. initializing a BertForSequenceClassification model from a BertForPreTraining model).\n",
      "- This IS NOT expected if you are initializing Wav2Vec2Model from the checkpoint of a model that you expect to be exactly identical (initializing a BertForSequenceClassification model from a BertForSequenceClassification model).\n",
      "speechbrain.lobes.models.huggingface_transformers.huggingface - Wav2Vec2Model is frozen.\n"
     ]
    },
    {
     "data": {
      "text/plain": [
       "str"
      ]
     },
     "execution_count": 5,
     "metadata": {},
     "output_type": "execute_result"
    }
   ],
   "source": [
    "from speechbrain.inference.interfaces import foreign_class\n",
    "classifier = foreign_class(source=\"speechbrain/emotion-recognition-wav2vec2-IEMOCAP\", pymodule_file=\"custom_interface.py\", classname=\"CustomEncoderWav2vec2Classifier\")\n",
    "out_prob, score, index, text_lab = classifier.classify_file(\"audio_segments/segment_1_20240319094710.wav\")\n",
    "type(text_lab[0])"
   ]
  },
  {
   "cell_type": "code",
   "execution_count": null,
   "metadata": {},
   "outputs": [],
   "source": []
  }
 ],
 "metadata": {
  "kernelspec": {
   "display_name": "venv",
   "language": "python",
   "name": "python3"
  },
  "language_info": {
   "codemirror_mode": {
    "name": "ipython",
    "version": 3
   },
   "file_extension": ".py",
   "mimetype": "text/x-python",
   "name": "python",
   "nbconvert_exporter": "python",
   "pygments_lexer": "ipython3",
   "version": "3.8.13"
  }
 },
 "nbformat": 4,
 "nbformat_minor": 2
}
